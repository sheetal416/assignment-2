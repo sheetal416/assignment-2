{
 "cells": [
  {
   "cell_type": "code",
   "execution_count": 1,
   "metadata": {},
   "outputs": [
    {
     "name": "stdout",
     "output_type": "stream",
     "text": [
      "* \n",
      "* * \n",
      "* * * \n",
      "* * * * \n",
      "* * * * * \n",
      "* * * * \n",
      "* * * \n",
      "* * \n",
      "* \n"
     ]
    }
   ],
   "source": [
    "n = 4\n",
    "for i in range(0, n+1):\n",
    "    for j in range (0, i+1):\n",
    "            print(\"*\", end = \" \")\n",
    "    print()\n",
    "for i in range(n, 0, -1):\n",
    "    for j in range(1, i+1):\n",
    "            print(\"*\", end = \" \")\n",
    "    print()\n",
    "\n",
    "\n",
    "\n",
    "            "
   ]
  },
  {
   "cell_type": "code",
   "execution_count": 2,
   "metadata": {},
   "outputs": [
    {
     "name": "stdout",
     "output_type": "stream",
     "text": [
      "enter the name which you want to reverse: ineuron\n",
      "user's name in reversed order is: norueni\n"
     ]
    }
   ],
   "source": [
    "def reverse(name):\n",
    "    name = name[::-1]\n",
    "    return name\n",
    "enter_name = input(\"enter the name which you want to reverse: \")\n",
    "print(\"user's name in reversed order is: \", end = \"\")\n",
    "print(reverse(enter_name))"
   ]
  },
  {
   "cell_type": "code",
   "execution_count": null,
   "metadata": {},
   "outputs": [],
   "source": []
  }
 ],
 "metadata": {
  "kernelspec": {
   "display_name": "Python 3",
   "language": "python",
   "name": "python3"
  },
  "language_info": {
   "codemirror_mode": {
    "name": "ipython",
    "version": 3
   },
   "file_extension": ".py",
   "mimetype": "text/x-python",
   "name": "python",
   "nbconvert_exporter": "python",
   "pygments_lexer": "ipython3",
   "version": "3.7.3"
  }
 },
 "nbformat": 4,
 "nbformat_minor": 2
}
